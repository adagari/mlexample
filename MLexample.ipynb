{
 "cells": [
  {
   "cell_type": "code",
   "execution_count": 1,
   "metadata": {},
   "outputs": [],
   "source": [
    "#import statments\n",
    "import pandas as pd\n",
    "import numpy as np\n",
    "from sklearn import preprocessing\n",
    "from sklearn.ensemble import RandomForestClassifier"
   ]
  },
  {
   "cell_type": "code",
   "execution_count": 2,
   "metadata": {},
   "outputs": [],
   "source": [
    "#read csv into a dataframe, fill NaN with -999. ML cannot predict on records containing NaN\n",
    "df = pd.read_csv('output.csv').fillna(-999)"
   ]
  },
  {
   "cell_type": "code",
   "execution_count": 3,
   "metadata": {},
   "outputs": [],
   "source": [
    "#feature list to make predictions on\n",
    "features = ['respond_ipbytes', 'protocol', 'original_bytes', 'original_ipbytes', 'duration', 'missed_bytes', 'destination_port']"
   ]
  },
  {
   "cell_type": "code",
   "execution_count": 4,
   "metadata": {},
   "outputs": [],
   "source": [
    "#split the dataframe into training and testing data\n",
    "training_data = df.head(100)\n",
    "testing_data = df.tail(40000)"
   ]
  },
  {
   "cell_type": "code",
   "execution_count": 5,
   "metadata": {},
   "outputs": [],
   "source": [
    "#save dataframes as csv files\n",
    "training_data[features].to_csv('training_data.csv')\n",
    "testing_data.to_csv('testing_data.csv')"
   ]
  },
  {
   "cell_type": "code",
   "execution_count": 6,
   "metadata": {},
   "outputs": [],
   "source": [
    "#open training_data.csv and label data"
   ]
  },
  {
   "cell_type": "code",
   "execution_count": 6,
   "metadata": {},
   "outputs": [],
   "source": [
    "#load training csv into a dataframe\n",
    "training_df = pd.read_csv('training_data.csv')"
   ]
  },
  {
   "cell_type": "code",
   "execution_count": 7,
   "metadata": {},
   "outputs": [],
   "source": [
    "#create a labelencoder object and encode protocol column, ML cannot predict on strings\n",
    "lc = preprocessing.LabelEncoder()\n",
    "training_df['protocol'] = lc.fit_transform(training_df.protocol)"
   ]
  },
  {
   "cell_type": "code",
   "execution_count": 8,
   "metadata": {},
   "outputs": [],
   "source": [
    "#create a RFC classifier to be trained\n",
    "clf = RandomForestClassifier(n_jobs=2, random_state=0)"
   ]
  },
  {
   "cell_type": "code",
   "execution_count": 9,
   "metadata": {},
   "outputs": [
    {
     "name": "stderr",
     "output_type": "stream",
     "text": [
      "C:\\Users\\taduser\\Anaconda3\\lib\\site-packages\\sklearn\\ensemble\\forest.py:245: FutureWarning: The default value of n_estimators will change from 10 in version 0.20 to 100 in 0.22.\n",
      "  \"10 in version 0.20 to 100 in 0.22.\", FutureWarning)\n"
     ]
    },
    {
     "data": {
      "text/plain": [
       "RandomForestClassifier(bootstrap=True, class_weight=None, criterion='gini',\n",
       "                       max_depth=None, max_features='auto', max_leaf_nodes=None,\n",
       "                       min_impurity_decrease=0.0, min_impurity_split=None,\n",
       "                       min_samples_leaf=1, min_samples_split=2,\n",
       "                       min_weight_fraction_leaf=0.0, n_estimators=10, n_jobs=2,\n",
       "                       oob_score=False, random_state=0, verbose=0,\n",
       "                       warm_start=False)"
      ]
     },
     "execution_count": 9,
     "metadata": {},
     "output_type": "execute_result"
    }
   ],
   "source": [
    "#train the classifier\n",
    "clf.fit(training_df[features], training_df['rfc'])"
   ]
  },
  {
   "cell_type": "code",
   "execution_count": 10,
   "metadata": {},
   "outputs": [],
   "source": [
    "#load testing_data into a dataframe\n",
    "testing_df = pd.read_csv('testing_data.csv')"
   ]
  },
  {
   "cell_type": "code",
   "execution_count": 11,
   "metadata": {},
   "outputs": [],
   "source": [
    "#create a labelencoder object and encode protocol column, ML cannot predict on strings\n",
    "lc = preprocessing.LabelEncoder()\n",
    "testing_df['protocol'] = lc.fit_transform(testing_df.protocol)"
   ]
  },
  {
   "cell_type": "code",
   "execution_count": 12,
   "metadata": {},
   "outputs": [],
   "source": [
    "#predict records in the testing_df store result in RFC_Prediction column\n",
    "testing_df['RFC_Prediction'] = clf.predict(testing_df[features])"
   ]
  },
  {
   "cell_type": "code",
   "execution_count": 18,
   "metadata": {},
   "outputs": [],
   "source": [
    "testing_df.loc[testing_df['RFC_Prediction'] == 1, 'RFC_Prediction' ] = 'Anomalous'\n",
    "testing_df.loc[testing_df['RFC_Prediction'] == 0, 'RFC_Prediction' ] = 'Normal'"
   ]
  },
  {
   "cell_type": "code",
   "execution_count": 13,
   "metadata": {},
   "outputs": [
    {
     "data": {
      "text/plain": [
       "[('respond_ipbytes', 0.0021786492374730117),\n",
       " ('protocol', 0.0005319000027995721),\n",
       " ('original_bytes', 0.11861879057646246),\n",
       " ('original_ipbytes', 0.3484419020133306),\n",
       " ('duration', 0.09869115996566974),\n",
       " ('missed_bytes', 0.4315375982042647),\n",
       " ('destination_port', 0.0)]"
      ]
     },
     "execution_count": 13,
     "metadata": {},
     "output_type": "execute_result"
    }
   ],
   "source": [
    "#review the importance of the features selected\n",
    "list(zip(training_df[features], clf.feature_importances_))"
   ]
  },
  {
   "cell_type": "code",
   "execution_count": 19,
   "metadata": {},
   "outputs": [],
   "source": [
    "#save results to a csv\n",
    "testing_df = testing_df.drop([testing_df.columns[0],testing_df.columns[1]], axis='columns')\n",
    "testing_df.to_csv('prediction.csv')\n",
    "testing_df.to_json('json-prediction.json', orient='records', lines=True)"
   ]
  },
  {
   "cell_type": "code",
   "execution_count": null,
   "metadata": {},
   "outputs": [],
   "source": []
  }
 ],
 "metadata": {
  "kernelspec": {
   "display_name": "Python 3",
   "language": "python",
   "name": "python3"
  },
  "language_info": {
   "codemirror_mode": {
    "name": "ipython",
    "version": 3
   },
   "file_extension": ".py",
   "mimetype": "text/x-python",
   "name": "python",
   "nbconvert_exporter": "python",
   "pygments_lexer": "ipython3",
   "version": "3.7.3"
  }
 },
 "nbformat": 4,
 "nbformat_minor": 2
}
